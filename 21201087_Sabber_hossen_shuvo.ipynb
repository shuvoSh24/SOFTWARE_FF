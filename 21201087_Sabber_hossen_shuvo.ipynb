{
  "cells": [
    {
      "cell_type": "markdown",
      "source": [
        "#SJF Scheduling."
      ],
      "metadata": {
        "id": "0oQvmaGh6jzl"
      }
    },
    {
      "cell_type": "code",
      "source": [
        "def sjf():\n",
        "    num_processes = int(input(\"Enter the number of processes: \"))\n",
        "\n",
        "    processes = []\n",
        "\n",
        "    for i in range(num_processes):\n",
        "        process_id = int(input(f\"Enter Process ID for process {i+1}: \"))\n",
        "        burst_time = int(input(f\"Enter Burst Time for process {i+1}: \"))\n",
        "        arrival_time = int(input(f\"Enter Arrival Time for process {i+1}: \"))\n",
        "        processes.append((process_id, burst_time, arrival_time))\n",
        "\n",
        "    processes.sort(key=lambda x: x[2])\n",
        "\n",
        "    total_burst_time = 0\n",
        "    completed_processes = []\n",
        "    remaining_processes = processes.copy()\n",
        "    current_time = 0\n",
        "\n",
        "    print(\"\\nExecution Queue\\tBurst Time\\tArrival Time\\tWaiting Time\\tTurnaround Time\\tCompletion Time\")\n",
        "\n",
        "    while remaining_processes:\n",
        "        available_processes = [p for p in remaining_processes if p[2] <= current_time]\n",
        "\n",
        "        if available_processes:\n",
        "            available_processes.sort(key=lambda x: x[1])\n",
        "            process = available_processes[0]\n",
        "\n",
        "            process_id, burst_time, arrival_time = process\n",
        "\n",
        "            waiting_time = current_time - arrival_time\n",
        "            if waiting_time < 0:\n",
        "                waiting_time = 0\n",
        "\n",
        "            turnaround_time = waiting_time + burst_time\n",
        "\n",
        "            completion_time = current_time + burst_time\n",
        "\n",
        "            print(f\"{process_id}\\t\\t{burst_time}\\t\\t{arrival_time}\\t\\t{waiting_time}\\t\\t{turnaround_time}\\t\\t{completion_time}\")\n",
        "\n",
        "            current_time += burst_time\n",
        "\n",
        "            remaining_processes.remove(process)\n",
        "        else:\n",
        "            current_time += 1\n",
        "\n",
        "sjf()\n",
        "1"
      ],
      "metadata": {
        "id": "Hl2fZ-A46hq9",
        "outputId": "100ed497-e009-489d-c145-3959ab8bc61e",
        "colab": {
          "base_uri": "https://localhost:8080/"
        }
      },
      "execution_count": null,
      "outputs": [
        {
          "output_type": "stream",
          "name": "stdout",
          "text": [
            "Enter the number of processes: 5\n",
            "Enter Process ID for process 1: 1\n",
            "Enter Burst Time for process 1: 4\n",
            "Enter Arrival Time for process 1: 2\n",
            "Enter Process ID for process 2: 2\n",
            "Enter Burst Time for process 2: 1\n",
            "Enter Arrival Time for process 2: 10\n",
            "Enter Process ID for process 3: 3\n",
            "Enter Burst Time for process 3: 2\n",
            "Enter Arrival Time for process 3: 3\n",
            "Enter Process ID for process 4: 4\n",
            "Enter Burst Time for process 4: 5\n",
            "Enter Arrival Time for process 4: 2\n",
            "Enter Process ID for process 5: 5\n",
            "Enter Burst Time for process 5: 5\n",
            "Enter Arrival Time for process 5: 0\n",
            "\n",
            "Execution Queue\tBurst Time\tArrival Time\tWaiting Time\tTurnaround Time\tCompletion Time\n",
            "5\t\t5\t\t0\t\t0\t\t5\t\t5\n",
            "3\t\t2\t\t3\t\t2\t\t4\t\t7\n",
            "1\t\t4\t\t2\t\t5\t\t9\t\t11\n",
            "2\t\t1\t\t10\t\t1\t\t2\t\t12\n",
            "4\t\t5\t\t2\t\t10\t\t15\t\t17\n"
          ]
        }
      ]
    },
    {
      "cell_type": "markdown",
      "source": [
        "#SSTF disk scheduling"
      ],
      "metadata": {
        "id": "ELZutCBn6y48"
      }
    },
    {
      "cell_type": "code",
      "source": [
        "def sstf_disk_scheduling(requests, head):\n",
        "    sequence = []\n",
        "    total_seek = 0\n",
        "    current_position = head\n",
        "    pending = requests.copy()\n",
        "\n",
        "    while pending:\n",
        "        # Find the closest request\n",
        "        distances = [(abs(current_position - r), r) for r in pending]\n",
        "        distances.sort()\n",
        "        closest_distance, next_request = distances[0]\n",
        "\n",
        "        total_seek += closest_distance\n",
        "        sequence.append(next_request)\n",
        "        current_position = next_request\n",
        "        pending.remove(next_request)\n",
        "\n",
        "    print(\"Execution Order:\")\n",
        "    print(\" → \".join(map(str, sequence)))  # Removed head from the print line\n",
        "    print(f\"\\nTotal Seek Operations: {total_seek}\")\n",
        "\n",
        "# Input\n",
        "head = 55\n",
        "requests = [137, 240, 179, 75, 118, 29, 15, 51]\n",
        "\n",
        "# Run the function\n",
        "sstf_disk_scheduling(requests, head)\n"
      ],
      "metadata": {
        "id": "ABEdz-VI621U",
        "outputId": "0bb35e59-f21a-466b-f41a-0154cc77476e",
        "colab": {
          "base_uri": "https://localhost:8080/"
        }
      },
      "execution_count": null,
      "outputs": [
        {
          "output_type": "stream",
          "name": "stdout",
          "text": [
            "Execution Order:\n",
            "51 → 29 → 15 → 75 → 118 → 137 → 179 → 240\n",
            "\n",
            "Total Seek Operations: 265\n"
          ]
        }
      ]
    }
  ],
  "metadata": {
    "colab": {
      "provenance": []
    },
    "kernelspec": {
      "display_name": "Python 3",
      "name": "python3"
    }
  },
  "nbformat": 4,
  "nbformat_minor": 0
}